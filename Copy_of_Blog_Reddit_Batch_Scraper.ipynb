{
  "nbformat": 4,
  "nbformat_minor": 0,
  "metadata": {
    "colab": {
      "provenance": [],
      "include_colab_link": true
    },
    "kernelspec": {
      "name": "python3",
      "display_name": "Python 3"
    },
    "language_info": {
      "name": "python"
    }
  },
  "cells": [
    {
      "cell_type": "markdown",
      "metadata": {
        "id": "view-in-github",
        "colab_type": "text"
      },
      "source": [
        "<a href=\"https://colab.research.google.com/github/manasvinik/baas/blob/master/Copy_of_Blog_Reddit_Batch_Scraper.ipynb\" target=\"_parent\"><img src=\"https://colab.research.google.com/assets/colab-badge.svg\" alt=\"Open In Colab\"/></a>"
      ]
    },
    {
      "cell_type": "code",
      "source": [
        "!pip install praw"
      ],
      "metadata": {
        "id": "E39LcnrNabo-"
      },
      "execution_count": null,
      "outputs": []
    },
    {
      "cell_type": "code",
      "execution_count": null,
      "metadata": {
        "id": "E5ihASmlWGs7"
      },
      "outputs": [],
      "source": [
        "import praw\n",
        "import csv"
      ]
    },
    {
      "cell_type": "code",
      "source": [
        "# Reddit API credentials\n",
        "client_id = 'ENTER CLIENT ID HERE'\n",
        "client_secret = 'ENTER CLIENT SECRET HERE'\n",
        "user_agent = 'ENTER USER AGENT HERE'\n"
      ],
      "metadata": {
        "id": "D2drGdTjVTlk"
      },
      "execution_count": null,
      "outputs": []
    },
    {
      "cell_type": "code",
      "source": [
        "# Initialize PRAW with your credentials\n",
        "reddit = praw.Reddit(client_id=client_id,\n",
        "                     client_secret=client_secret,\n",
        "                     user_agent=user_agent)"
      ],
      "metadata": {
        "id": "EzHMLE9wVWPD"
      },
      "execution_count": null,
      "outputs": []
    },
    {
      "cell_type": "code",
      "source": [
        "# Function to add questions from a specific listing\n",
        "def add_questions_from_listing(subreddit, listing, limit, questions):\n",
        "    for submission in listing(limit=limit):\n",
        "        if submission.title.endswith('?'):\n",
        "            questions.add(submission.title)"
      ],
      "metadata": {
        "id": "MS0mems2VZ1z"
      },
      "execution_count": null,
      "outputs": []
    },
    {
      "cell_type": "code",
      "source": [
        "# Function to scrape questions from different listings of a subreddit\n",
        "def scrape_subreddit(subreddit, limit=1000):\n",
        "    questions = set()\n",
        "    add_questions_from_listing(subreddit, reddit.subreddit(subreddit).new, limit, questions)\n",
        "    add_questions_from_listing(subreddit, reddit.subreddit(subreddit).hot, limit, questions)\n",
        "    add_questions_from_listing(subreddit, reddit.subreddit(subreddit).top, limit, questions)\n",
        "    add_questions_from_listing(subreddit, reddit.subreddit(subreddit).controversial, limit, questions)\n",
        "    return questions"
      ],
      "metadata": {
        "id": "feKJb8yKVe9h"
      },
      "execution_count": null,
      "outputs": []
    },
    {
      "cell_type": "code",
      "source": [
        "# Function to read subreddits from a CSV and scrape questions, then compile into one file\n",
        "def scrape_multiple_subreddits_to_single_file(input_filename, output_filename, limit=1000):\n",
        "    all_questions = set()\n",
        "    with open(input_filename, mode='r', newline='', encoding='utf-8') as file:\n",
        "        reader = csv.reader(file)\n",
        "        for row in reader:\n",
        "            subreddit = row[0]\n",
        "            print(f\"Scraping subreddit: {subreddit}\")\n",
        "            questions = scrape_subreddit(subreddit, limit)\n",
        "            all_questions.update(questions)\n",
        "\n",
        "    with open(output_filename, mode='w', newline='', encoding='utf-8') as outfile:\n",
        "        writer = csv.writer(outfile)\n",
        "        writer.writerow(['Question'])\n",
        "        writer.writerows([[q] for q in all_questions])\n",
        "    print(f\"Scraped a total of {len(all_questions)} questions into {output_filename}\")\n",
        "\n",
        "input_filename = 'subreddits.csv'  # CSV file containing subreddit names\n",
        "output_filename = 'combined_reddit_questions.csv'  # Output CSV file name\n",
        "question_limit = 2000  # Change this to the number of questions you want\n",
        "\n",
        "scrape_multiple_subreddits_to_single_file(input_filename, output_filename, question_limit)\n"
      ],
      "metadata": {
        "id": "UDASrQ9bV6rd"
      },
      "execution_count": null,
      "outputs": []
    },
    {
      "cell_type": "code",
      "source": [
        "!pip install  openai --upgrade"
      ],
      "metadata": {
        "id": "AJGQqnNWrALX"
      },
      "execution_count": null,
      "outputs": []
    },
    {
      "cell_type": "code",
      "source": [
        "import csv\n",
        "import openai\n",
        "\n",
        "# Set your OpenAI API key\n",
        "openai.api_key = 'ENTER OPEN AI ID HERE'"
      ],
      "metadata": {
        "id": "c8pBUIz0rCAU"
      },
      "execution_count": null,
      "outputs": []
    },
    {
      "cell_type": "code",
      "source": [
        "def clean_questions_batch(questions_batch, prompt):\n",
        "    try:\n",
        "        # Prefix each question with a unique identifier\n",
        "        combined_questions = \"\\n\".join([f\"Question {i+1}: {q}\" for i, q in enumerate(questions_batch)])\n",
        "        full_prompt = f\"{prompt}\\n\\n{combined_questions}\"\n",
        "\n",
        "        response = openai.completions.create(model=\"gpt-3.5-turbo-instruct\",prompt=full_prompt,\n",
        "        max_tokens=100 * len(questions_batch) # Adjust token limit as needed\n",
        "        )\n",
        "\n",
        "        cleaned_responses = response.choices[0].text.strip().split(\"\\n\")\n",
        "\n",
        "        # Process each response, matching them with their corresponding question\n",
        "        cleaned_questions = []\n",
        "        for line in cleaned_responses:\n",
        "            if line.startswith(\"Question\"):\n",
        "                cleaned_question = line.split(\":\", 1)[1].strip() if ':' in line else line\n",
        "                cleaned_questions.append(cleaned_question)\n",
        "\n",
        "        return cleaned_questions\n",
        "    except Exception as e:\n",
        "        print(f\"Error cleaning questions: {e}\")\n",
        "        return questions_batch  # Return original batch in case of error"
      ],
      "metadata": {
        "id": "SsjkGk4DrDmx"
      },
      "execution_count": null,
      "outputs": []
    },
    {
      "cell_type": "code",
      "source": [
        "def process_and_clean_questions(input_filename, output_filename, batch_size=10):\n",
        "    with open(input_filename, mode='r', newline='', encoding='utf-8') as infile, \\\n",
        "         open(output_filename, mode='w', newline='', encoding='utf-8') as outfile:\n",
        "\n",
        "        reader = csv.reader(infile)\n",
        "        writer = csv.writer(outfile)\n",
        "        next(reader)  # Skip header\n",
        "        writer.writerow(['Cleaned Question'])\n",
        "\n",
        "        all_questions = [row[0] for row in reader]  # Assuming questions are in the first column\n",
        "        prompt = \"Here's a list of questions I've compiled. Could you help me rewrite each one into a more direct and concise question without any additional comments or brackets?\"\n",
        "\n",
        "        for i in range(0, len(all_questions), batch_size):\n",
        "            batch = all_questions[i:i + batch_size]\n",
        "            cleaned_questions = clean_questions_batch(batch, prompt)\n",
        "            writer.writerows([[q] for q in cleaned_questions if q.strip()])"
      ],
      "metadata": {
        "id": "hwNmproyrGMI"
      },
      "execution_count": null,
      "outputs": []
    },
    {
      "cell_type": "code",
      "source": [
        "input_filename = 'combined_reddit_questions.csv'  # CSV file with original questions\n",
        "output_filename = 'cleaned_reddit_questions.csv'  # Output CSV file name\n",
        "\n",
        "process_and_clean_questions(input_filename, output_filename)"
      ],
      "metadata": {
        "id": "DvJ-Q1c9rJVP"
      },
      "execution_count": null,
      "outputs": []
    }
  ]
}